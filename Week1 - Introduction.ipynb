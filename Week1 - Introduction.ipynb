{
 "cells": [
  {
   "cell_type": "markdown",
   "metadata": {},
   "source": [
    "# 1. Welcome!\n",
    "\n",
    "Welcome to the Levelup Bootcamp One - Python Fundamentals course. This Bootcamp is for people that would like to learn new skills and would like to learn the basics of the Python programming lanuguage. If you have never coded before in your life, or if you'd like to learn a new language, or people that know the basics of Python but would like to level up their Python skills, then this course is for you. The accompanying Jupyter notebooks will provide you with resources for you to explore further, as well as code snippets for you to practice with."
   ]
  },
  {
   "cell_type": "markdown",
   "metadata": {},
   "source": [
    "# 2. Why should you learn to code? Why \"level-up\"?\n",
    "\n",
    "* Technology is everywhere and is in every industry. You need to become a part of this else risk being left behind. \n",
    "* The more skills that you have the better. Being versatile is key in the future of work and this future is written in lines of code.\n",
    "* You are more marketable and your earning potential is higher.\n",
    "* You can make your side-projects and dreams a reality.\n",
    "* You can make yourself far more effective in your current role by learning how to automate your low-value tasks, or by having the ability to augment your high-value activities.\n",
    "* Coding improves your critical thinking abilities.\n",
    "* Become part of global communities.\n",
    "* You gain the ability to work anywhere at any time."
   ]
  },
  {
   "cell_type": "markdown",
   "metadata": {},
   "source": [
    "# 3. Why Python?\n",
    "\n",
    "* The demand in Python skills has exploded. Python is the future of AI and Machine Learning and has become the language of choice for data science and machine learning development [2](http://www.datasciencecentral.com/profiles/blogs/python-overtakes-r-for-data-science-and-machine-learning).\n",
    "* Python is very easy to learn and is very powerful. This is great for first-time programmers as you get to learn Python quickly!\n",
    "* Python is extensiely used for web development. Some of the world's biggest websites are powered by Python. Examples include [Google](www.google.com), [Nasa](https://www.nasa.gov/), [Pinterest](https://za.pinterest.com/), [Instagram](https://www.instagram.com/), [Mozilla Firefox](https://www.mozilla.org/en-US/firefox/new/), [YouTube](https://www.youtube.com/), [Dropbox](www.dropbox.com/) to name a few.\n",
    "* Python is great for rapid prototyping and creating minimum viable products MVPs. An MVP is the smallest possible set of features that satisfy a given problem.\n",
    "* Python is great at data visualisation and data analysis (Bye-bye manual Excel!)\n",
    "* It is fun. e.g. you can quickly start learning how to do home automation with a little bit of Python knowledge and a [Raspberry Pi](https://www.raspberrypi.org/) or do some interesting side project that you've been dreaming about for so long."
   ]
  },
  {
   "cell_type": "markdown",
   "metadata": {},
   "source": [
    "# 3.1 Installing Python and Jupyter using the Anaconda distributions\n",
    "\n",
    "The easiest way to install Python is by downloading and installing the [Anaconda distribution](https://www.anaconda.com/download/). Anaconda automatically installs Python, Jupyter Notebook and other commonly used computational libraries. We recommend downloading the latest Python 3 version (currently Python version 3.6).\n",
    "\n",
    "A useful tutorial on how to install Anaconda on Windows can be found [here](https://medium.com/@GalarnykMichael/install-python-on-windows-anaconda-c63c7c3d1444)."
   ]
  },
  {
   "cell_type": "markdown",
   "metadata": {},
   "source": [
    "# 4. Jupyter Notebooks\n",
    "\n",
    "## 4.1 Introduction\n",
    "\n",
    "\"The Jupyter Notebook is an open-source web application that allows you to create and share documents that contain live code, equations, visualizations and explanatory text. Uses include: data cleaning and transformation, numerical simulation, statistical modeling, machine learning and much more.\" [1](jupyter.org/). It supports over 40 programming languages including Python, R, Julia and Scala (these are very popular data science languages). Notebooks can easily be shared via GitHub, Jupyter Notebook Viewer, email and even Dropbox. The notebook can produce a variety of rich outputs (e.g. images, videos, LaTeX, and JavaScript) and can be used to manipulate and visualise data in real time [1](jupyter.org). Finally, Jupyter notebooks also allows integration into big data platforms such as Apache Spark and Scala.\n",
    "\n",
    "The origin of the name Jupyter is born from the planet Jupiter, a name that evokes the traditions and ideas of science. Additionally, the core programming languages supported by Jupyter are **Ju**lia, **Py**thon and **R**.\n",
    "\n",
    "The target audience of Jupyter ranges from high school students and people who are starting to learn how to program all the way to the most advanced engineers and scientists in the world.\n",
    "\n",
    "Please check out the very useful Jupyter Notebooks manual at [Bryn Mawr College Computer Science Guide](https://athena.brynmawr.edu/jupyter/hub/dblank/public/Jupyter%20Notebook%20Users%20Manual.ipynb) to learn more. This is a must read and goes into great detail as to how one can use Jupyter Notebooks.\n",
    "\n",
    "Go to [this link](try.jupyter.org) to try Jupyter Notebooks in your browser (no set up required)\n",
    "\n",
    "## 4.2 Useful keyboard shortcuts\n",
    "\n",
    "* Print out a very useful Jupyter Notebook Keyboard Shortcut cheatsheet [here](https://www.cheatography.com/weidadeyue/cheat-sheets/jupyter-notebook/pdf_bw/)\n",
    "* Although a little more advanced, [this blog](https://www.dataquest.io/blog/jupyter-notebook-tips-tricks-shortcuts/) is also very helpful resource to teach you how to drive Jupyter notebooks.\n",
    "\n",
    "### 4.2.1 Some commonly used shortcuts\n",
    "\n",
    "* **Ctrl+Enter** runs a cell\n",
    "* **Shift+Enter** runs a cell and selects cell below\n",
    "* **Tab button** allows for autocompletion of methods \n",
    "* **Shift+Tab** gives us a docstring explanation of the method or function.\n",
    "* **Y** converts a cell to code\n",
    "* **M** converts a cell to markdown (i.e. you can write plain-text notes)\n",
    "* **X** cut a cell\n",
    "* **D, D** delete a cell\n",
    "* **Help** provides help documentation on an object or method. (e.g. help(print))\n",
    "\n",
    "## 4.2.2 Where to find the Jupyter Notebooks for the course\n",
    "\n",
    "You will be able to download the notes [here](http://nbviewer.jupyter.org/github/nicksimi/BootcampOnePythonFundamentals/tree/master/) using nbviewer or [here](https://github.com/nicksimi/BootcampOnePythonFundamentals) downloading directly from GitHub. \n",
    "\n",
    "## 4.2.3 How to open a Jupyter Notebook\n",
    "\n",
    "The prerequisites for opening a notebook is that Python and Jupyter Notebook are installed. Once these are installed follow these steps:\n",
    "\n",
    "1. Open up a commond prompt (Start->Run->**cmd**) on Windows or (Spotlight search for **terminal**) on a Mac.\n",
    "2. In the command prompt, use the **cd** command to browse to the directory where you would like to save your notebook. \n",
    "3. In your working folder, type **jupyter notebook**. A browser tab should open with Jupyter notebooks running. \n",
    "4. Click on **New** to launch a notebook and start coding.\n",
    "5. Jupyer notebooks are saved as **.ipynb** files. \n",
    "\n",
    "\n",
    "\n"
   ]
  },
  {
   "cell_type": "markdown",
   "metadata": {},
   "source": [
    "# 5. Python Integrated Development Environments (IDEs) and text editors\n",
    "\n",
    "## 5.1 DEs\n",
    "* [PyCharm](https://www.jetbrains.com/pycharm/)\n",
    "* [Spyder](https://pythonhosted.org/spyder/)\n",
    "* [Wingware](https://wingware.com/)\n",
    "\n",
    "## 5.2 Text editors\n",
    "* [Sublime Text](https://www.sublimetext.com/3)\n",
    "* [Atom](https://atom.io/)\n",
    "* [Notepad++](https://notepad-plus-plus.org/download/v7.5.1.html)"
   ]
  },
  {
   "cell_type": "markdown",
   "metadata": {},
   "source": [
    "# 6. Free Python tutorials and textbooks\n",
    "\n",
    "Check out the following very useful free Python tutorials and textbooks\n",
    "* [The Official Python Documentation](https://www.python.org/doc/) and [Tutorial](https://docs.python.org/3/tutorial/)\n",
    "* [Think Python - How to Think Like a Computer Scientist](http://greenteapress.com/thinkpython2/thinkpython2.pdf)\n",
    "* [Automate the Boring Stuff](https://automatetheboringstuff.com/)"
   ]
  },
  {
   "cell_type": "markdown",
   "metadata": {},
   "source": [
    "# 7. Python Online Courses\n",
    "\n",
    "There are many cheap (or even free) online courses that one can do to learn technical skills. Please check out online learning platforms such as [Coursera](https://www.coursera.org/), [Udemy](https://www.udemy.com/), [EdX](https://www.edx.org/) and [Udacity](https://www.udacity.com/).\n",
    "\n",
    "Some very good Python-specific courses include:\n",
    "* [Python for Everybody (Getting Started with Python)](https://www.coursera.org/learn/python#%20) which is the first course in the [Learn to Program and Analyze Data with Python specialisation](https://www.coursera.org/specializations/python) created by the University of Michigan.\n",
    "* [Complete Python Bootcamp: Go from zero to hero in Python](https://www.udemy.com/complete-python-bootcamp/) on [Udemy](https://www.udemy.com/)."
   ]
  }
 ],
 "metadata": {
  "kernelspec": {
   "display_name": "Python 3",
   "language": "python",
   "name": "python3"
  },
  "language_info": {
   "codemirror_mode": {
    "name": "ipython",
    "version": 3
   },
   "file_extension": ".py",
   "mimetype": "text/x-python",
   "name": "python",
   "nbconvert_exporter": "python",
   "pygments_lexer": "ipython3",
   "version": "3.5.2"
  }
 },
 "nbformat": 4,
 "nbformat_minor": 2
}
